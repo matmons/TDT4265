{
 "cells": [
  {
   "cell_type": "markdown",
   "metadata": {},
   "source": [
    "# Assignment 1 Report"
   ]
  },
  {
   "cell_type": "markdown",
   "metadata": {},
   "source": [
    "This is an outline for your report to ease the amount of work required to create your report. Jupyter notebook supports markdown, and I recommend you to check out this [cheat sheet](https://github.com/adam-p/markdown-here/wiki/Markdown-Cheatsheet). If you are not familiar with markdown.\n",
    "\n",
    "Before delivery, **remember to convert this file to PDF**. You can do it in two ways:\n",
    "1. Print the webpage (ctrl+P or cmd+P)\n",
    "2. Export with latex. This is somewhat more difficult, but you'll get somehwat of a \"prettier\" PDF. Go to File -> Download as -> PDF via LaTeX. You might have to install nbconvert and pandoc through conda; `conda install nbconvert pandoc`."
   ]
  },
  {
   "cell_type": "markdown",
   "metadata": {},
   "source": [
    "# Task 1"
   ]
  },
  {
   "cell_type": "markdown",
   "metadata": {},
   "source": [
    "## task 1a)\n",
    "Intersection-over-Union is a validation metric that calculates the ratio of the intersected area and union area of a predicted bounding box and the ground truth bounding box.\n",
    "![](task1a.png)\n",
    "In the illustration above. The ground truth bounding box is the green outline, the predicted bounding box is the red outline. Grey is the intersection and Grey+Blue is the union.\n",
    "\n",
    "$ IoU = \\frac{Intersection}{Union} = \\frac{Grey}{Grey+Blue}$\n"
   ]
  },
  {
   "cell_type": "markdown",
   "metadata": {},
   "source": [
    "## task 1b)\n",
    "A true positive (TP) is a correctly labeled prediction of an item belonging to the positive class. A false positive (FP) is a incorrectly labeled prediction of an item belonging to the positive class.\n",
    "\n",
    "Precision is the ratio of positive predictions that are correct.\n",
    "\n",
    "$ Precision = \\frac{TP}{TP+FP}$\n",
    "\n",
    "Recall is correct positives found over all existing positives in the ground truth.\n",
    "\n",
    "$ Recall = \\frac{TP}{TP+FN}$"
   ]
  },
  {
   "cell_type": "markdown",
   "metadata": {},
   "source": [
    "## task 1c)\n"
   ]
  },
  {
   "cell_type": "code",
   "execution_count": 11,
   "metadata": {},
   "outputs": [
    {
     "name": "stdout",
     "output_type": "stream",
     "text": [
      "0.0   1.0   1.0\n",
      "0.1   1.0   1.0\n",
      "0.2   1.0   1.0\n",
      "0.3   1.0   1.0\n",
      "0.4   1.0   0.8\n",
      "0.5   0.5   0.6\n",
      "0.6   0.5   0.5\n",
      "0.7   0.5   0.5\n",
      "0.8   0.2   0.2\n",
      "0.9   0.2   0.2\n",
      "1.0   0.2   0.2\n",
      "Average precision of class 1:  0.6454545454545455\n",
      "Average precision of class 2:  0.6363636363636364\n",
      "Mean average precision:  0.6409090909090909\n"
     ]
    }
   ],
   "source": [
    "import numpy as np\n",
    "\n",
    "precision_1 = [1.0, 1.0, 1.0, 0.5, 0.20]\n",
    "recall_1 = [0.05, 0.1, 0.4, 0.7, 1.0]\n",
    "precision_2 = [1.0, 0.80, 0.60, 0.5, 0.20]\n",
    "recall_2 = [0.3, 0.4, 0.5, 0.7, 1.0]\n",
    "\n",
    "# 1 + 1 + 1 + 1 + 1 + .5 + .5 + .5 + .2 + .2 + .2\n",
    "# 1 + 1 + 1 + 1 + .8 + .6 + .5 + .5 + .2 + .2 + .2\n",
    "avg_precision_1 = 0\n",
    "avg_precision_2 = 0\n",
    "for recall in np.linspace(0, 1.0, 11): \n",
    "    precisions_1 = [p for p, r in zip(precision_1, recall_1) if r >= round(recall,1)]\n",
    "    precisions_2 = [p for p, r in zip(precision_2, recall_2) if r >= round(recall,1)]\n",
    "    print(round(recall,1), ' ', max(precisions_1), ' ', max(precisions_2))\n",
    "    avg_precision_1 += max(precisions_1)\n",
    "    avg_precision_2 += max(precisions_2)\n",
    "\n",
    "avg1 = avg_precision_1/11\n",
    "avg2 = avg_precision_2/11\n",
    "\n",
    "print(\"Average precision of class 1: \", avg1)\n",
    "print(\"Average precision of class 2: \", avg2)\n",
    "print(\"Mean average precision: \", (avg1+avg2)/2)"
   ]
  },
  {
   "cell_type": "code",
   "execution_count": 4,
   "metadata": {},
   "outputs": [
    {
     "name": "stdout",
     "output_type": "stream",
     "text": [
      "0.0\n",
      "0.1\n",
      "0.2\n",
      "0.30000000000000004\n",
      "0.4\n",
      "0.5\n",
      "0.6000000000000001\n",
      "0.7000000000000001\n",
      "0.8\n",
      "0.9\n",
      "1.0\n"
     ]
    }
   ],
   "source": [
    "for recall in np.linspace(0, 1.0, 11):\n",
    "    print(recall)"
   ]
  },
  {
   "cell_type": "markdown",
   "metadata": {},
   "source": [
    "# Task 2\n",
    "\n",
    "### Task 2f)\n"
   ]
  },
  {
   "cell_type": "markdown",
   "metadata": {},
   "source": [
    "# Task 3"
   ]
  },
  {
   "cell_type": "markdown",
   "metadata": {},
   "source": [
    "### Task 3a)\n",
    "The process of filtering out a set of overlapping boxes is called mathing strategy. \n",
    "\n",
    "### Task 3b)\n",
    "False: the first layers are better at detecting small objects, not the deeper layers. \n",
    "\n",
    "### Task 3c)\n",
    "Since objects has different shapes, we wish to use different aspect ratios of the different bounding  box. The shapes of objects have a typical ratio and for example humans typically have the ratio 0.41. We use different ratios to be able to detect the different objects in the image. This makes us able to cover various input obect sizes and shapes. Using a variety of default box shapes seems to make the task of predicting boxes easier for the network. \n",
    "\n",
    "\n",
    "### Task 3d)\n",
    "YOLOv1/v2 uses a single scale feature map and SSD uses a multi-scale feature map. \n",
    "\n",
    "### Task 3e)\n",
    "We have that wxhxk = 38x38x6 = 8664\n",
    "\n",
    "### Task 3f)\n",
    "for each resolution \n",
    "38x38: 38x38x6 = 8664\n",
    "19x19: 19x19x6 = 2166\n",
    "10x10: 10x10x6 = 600\n",
    "5x5: 5x5x6 = 150\n",
    "3x3: 3x3x6 = 54\n",
    "1x1: 1x1x6 = 6\n",
    "Total: 8664 + 2166 + 600 + 150 + 54 + 6 = 11640"
   ]
  },
  {
   "cell_type": "markdown",
   "metadata": {},
   "source": [
    "# Task 4"
   ]
  },
  {
   "cell_type": "markdown",
   "metadata": {},
   "source": [
    "## Task 4b)\n",
    "\n",
    "FILL IN ANSWER. \n",
    "\n",
    "## Task 4c)\n",
    "FILL IN ANSWER. \n",
    "\n",
    "\n",
    "## Task 4d)\n",
    "FILL IN ANSWER. \n",
    "\n",
    "\n",
    "## Task 4e)\n",
    "FILL IN ANSWER. \n",
    "\n",
    "\n",
    "## Task 4f)\n",
    "FILL IN ANSWER. "
   ]
  },
  {
   "cell_type": "code",
   "execution_count": null,
   "metadata": {},
   "outputs": [],
   "source": []
  }
 ],
 "metadata": {
  "kernelspec": {
   "display_name": "Python 3",
   "language": "python",
   "name": "python3"
  },
  "language_info": {
   "codemirror_mode": {
    "name": "ipython",
    "version": 3
   },
   "file_extension": ".py",
   "mimetype": "text/x-python",
   "name": "python",
   "nbconvert_exporter": "python",
   "pygments_lexer": "ipython3",
   "version": "3.7.9"
  }
 },
 "nbformat": 4,
 "nbformat_minor": 4
}

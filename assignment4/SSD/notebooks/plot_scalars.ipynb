{
 "cells": [
  {
   "cell_type": "code",
   "execution_count": 12,
   "metadata": {},
   "outputs": [],
   "source": [
    "import os\n",
    "import tensorflow as tf\n",
    "import matplotlib.pyplot as plt\n",
    "from tensorboard.backend.event_processing import event_accumulator\n",
    "from tensorflow.python.summary.summary_iterator import summary_iterator"
   ]
  },
  {
   "cell_type": "code",
   "execution_count": 13,
   "metadata": {},
   "outputs": [
    {
     "data": {
      "text/plain": [
       "'\\n\\ndef read_all_scalars(log_path):\\n    metrics = {\\n        \\n    }\\n    assert os.path.isfile(log_path)\\n    for event in summary_iterator(log_path):\\n        for value in event.summary.value:\\n            metrics[value.tag] = value.simple_value\\n\\n    return metrics'"
      ]
     },
     "execution_count": 13,
     "metadata": {},
     "output_type": "execute_result"
    }
   ],
   "source": [
    "def read_all_scalars(log_path):\n",
    "    ea = event_accumulator.EventAccumulator(log_path,\n",
    "        size_guidance={\n",
    "            event_accumulator.SCALARS: 0,\n",
    "        })\n",
    "    ea.Reload() # loads events from file\n",
    "    tags = ea.Tags()[\"scalars\"]\n",
    "    metrics = {\n",
    "        \n",
    "    }\n",
    "    for tag in tags:\n",
    "        metrics[tag] = ea.Scalars(tag)\n",
    "\n",
    "    return metrics\n",
    "\"\"\"\n",
    "\n",
    "def read_all_scalars(log_path):\n",
    "    metrics = {\n",
    "        \n",
    "    }\n",
    "    assert os.path.isfile(log_path)\n",
    "    for event in summary_iterator(log_path):\n",
    "        for value in event.summary.value:\n",
    "            metrics[value.tag] = value.simple_value\n",
    "\n",
    "    return metrics\"\"\""
   ]
  },
  {
   "cell_type": "code",
   "execution_count": 14,
   "metadata": {},
   "outputs": [],
   "source": [
    "# Set the path to your tensorboard log\n",
    "scalars = read_all_scalars(\"../outputs/basic/tf_logs/events.out.tfevents.1616576518.jupyter_amockern.2039.0\")\n",
    "#scalars = read_all_scalars(\"../outputs/vgg_VOC/tf_logs/events.out.tfevents.1616521989.jupyter_amockern.486.0\")"
   ]
  },
  {
   "cell_type": "code",
   "execution_count": 15,
   "metadata": {},
   "outputs": [
    {
     "name": "stdout",
     "output_type": "stream",
     "text": [
      "Possible scalars to plot:\n",
      "\t losses/total_loss\n",
      "\t losses/reg_loss\n",
      "\t losses/cls_loss\n",
      "\t lr\n",
      "\t metrics/mnist_detection_val/mAP\n",
      "\t metrics/mnist_detection_val/0\n",
      "\t metrics/mnist_detection_val/1\n",
      "\t metrics/mnist_detection_val/2\n",
      "\t metrics/mnist_detection_val/3\n",
      "\t metrics/mnist_detection_val/4\n",
      "\t metrics/mnist_detection_val/5\n",
      "\t metrics/mnist_detection_val/6\n",
      "\t metrics/mnist_detection_val/7\n",
      "\t metrics/mnist_detection_val/8\n",
      "\t metrics/mnist_detection_val/9\n"
     ]
    }
   ],
   "source": [
    "print(\"Possible scalars to plot:\")\n",
    "for tag in scalars.keys():\n",
    "    print(\"\\t\", tag)"
   ]
  },
  {
   "cell_type": "code",
   "execution_count": 16,
   "metadata": {},
   "outputs": [
    {
     "data": {
      "image/png": "[encoded data removed]",
      "text/plain": [
       "<Figure size 432x288 with 1 Axes>"
      ]
     },
     "metadata": {
      "needs_background": "light"
     },
     "output_type": "display_data"
    }
   ],
   "source": [
    "tag_to_plot = \"losses/total_loss\"\n",
    "values = scalars[tag_to_plot]\n",
    "iterations = [val.step for val in values]\n",
    "values = [val.value for val in values]\n",
    "plt.ylim([0, 10])\n",
    "plt.plot(iterations, values)\n",
    "plt.savefig(f\"basicimproved_plot.png\")"
   ]
  },
  {
   "cell_type": "code",
   "execution_count": 17,
   "metadata": {},
   "outputs": [],
   "source": [
    "%load_ext tensorboard"
   ]
  },
  {
   "cell_type": "code",
   "execution_count": 18,
   "metadata": {},
   "outputs": [
    {
     "name": "stdout",
     "output_type": "stream",
     "text": [
      "The tensorboard extension is already loaded. To reload it, use:\n",
      "  %reload_ext tensorboard\n"
     ]
    },
    {
     "data": {
      "text/html": [
       "\n",
       "      <iframe id=\"tensorboard-frame-bf975693b860dab2\" width=\"100%\" height=\"800\" frameborder=\"0\">\n",
       "      </iframe>\n",
       "      <script>\n",
       "        (function() {\n",
       "          const frame = document.getElementById(\"tensorboard-frame-bf975693b860dab2\");\n",
       "          const url = new URL(\"/\", window.location);\n",
       "          const port = 6006;\n",
       "          if (port) {\n",
       "            url.port = port;\n",
       "          }\n",
       "          frame.src = url;\n",
       "        })();\n",
       "      </script>\n",
       "    "
      ],
      "text/plain": [
       "<IPython.core.display.HTML object>"
      ]
     },
     "metadata": {},
     "output_type": "display_data"
    }
   ],
   "source": [
    "%load_ext tensorboard\n",
    "%tensorboard --logdir output\n"
   ]
  },
  {
   "cell_type": "code",
   "execution_count": null,
   "metadata": {},
   "outputs": [],
   "source": []
  }
 ],
 "metadata": {
  "kernelspec": {
   "display_name": "Python 3",
   "language": "python",
   "name": "python3"
  },
  "language_info": {
   "codemirror_mode": {
    "name": "ipython",
    "version": 3
   },
   "file_extension": ".py",
   "mimetype": "text/x-python",
   "name": "python",
   "nbconvert_exporter": "python",
   "pygments_lexer": "ipython3",
   "version": "3.8.5"
  }
 },
 "nbformat": 4,
 "nbformat_minor": 4
}

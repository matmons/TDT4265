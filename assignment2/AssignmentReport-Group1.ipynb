{
 "cells": [
  {
   "cell_type": "markdown",
   "metadata": {},
   "source": [
    "# Assignment 1 Report"
   ]
  },
  {
   "cell_type": "markdown",
   "metadata": {},
   "source": [
    "This is an outline for your report to ease the amount of work required to create your report. Jupyter notebook supports markdown, and I recommend you to check out this [cheat sheet](https://github.com/adam-p/markdown-here/wiki/Markdown-Cheatsheet). If you are not familiar with markdown.\n",
    "\n",
    "Before delivery, **remember to convert this file to PDF**. You can do it in two ways:\n",
    "1. Print the webpage (ctrl+P or cmd+P)\n",
    "2. Export with latex. This is somewhat more difficult, but you'll get somehwat of a \"prettier\" PDF. Go to File -> Download as -> PDF via LaTeX. You might have to install nbconvert and pandoc through conda; `conda install nbconvert pandoc`."
   ]
  },
  {
   "cell_type": "markdown",
   "metadata": {},
   "source": [
    "# Task 1"
   ]
  },
  {
   "cell_type": "markdown",
   "metadata": {},
   "source": [
    "## task 1a)\n",
    "\n",
    "\n",
    "We have from equation 3  \n",
    "\\begin{equation}\n",
    "    w_{j,i} = w_{j,i} - \\delta _{j}x_{i}\n",
    "\\end{equation}\n",
    "\n",
    "\\vspace{5mm}\n",
    "Where\n",
    "\\begin{equation}\n",
    "    \\delta _{j} = \\frac{\\partial C}{\\partial z_{j}} = \\displaystyle\\sum_{k}  \\frac{\\partial C}{\\partial z_{k}} \\frac{\\partial z_{k}}{\\partial a_{j}} \\frac{\\partial a_{j}}{\\partial z_{j}}\n",
    "\\end{equation}\n",
    "\n",
    "\\vspace{5mm}\n",
    "and from equation 2\n",
    "\\begin{equation}\n",
    "    w_{j,i} = w_{j,i} - \\alpha \\frac{\\partial C}{\\partial w_{j,i}}\n",
    "\\end{equation}\n",
    "\n",
    "\\vspace{5mm}\n",
    "By using the chain rule we have that\n",
    "\\begin{equation}\n",
    "    \\frac{\\partial C}{\\partial w_{j,i}} = \\displaystyle\\sum_{k} \\frac{\\partial z_{j}}{\\partial w_{j,i}}\\frac{\\partial a_{j}}{\\partial z_{j}}\\frac{\\partial z_{k}}{\\partial a_{j}}\\frac{\\partial C}{\\partial z_{k}}\n",
    "\\end{equation}\n",
    "\n",
    "\\vspace{5mm}\n",
    "Compare terms in (3) and (5), we get that\n",
    "\\begin{equation}\n",
    "    \\frac{\\partial C}{\\partial w_{j,i}} = \\displaystyle\\sum_{k} \\frac{\\partial z_{j}}{\\partial w_{j,i}}\\delta _{j}\n",
    "\\end{equation}\n",
    "\n",
    "\\vspace{5mm}\n",
    "where\n",
    "\\begin{equation}\n",
    "    z_{j} = w_{j,i} x_{i}  =>  \\frac{\\partial z_j}{\\partial w_{j,i}} = x_{i}\n",
    "\\end{equation}\n",
    "\n",
    "\\vspace{5mm}\n",
    "that gives \n",
    "\\begin{equation}\n",
    "    \\frac{\\partial C}{\\partial w_{j,i}} = \\delta _{j}x_{i}\n",
    "\\end{equation}\n",
    "\n",
    "and therefore\n",
    "\\vspace{5mm}\n",
    "\\begin{equation}\n",
    "    w_{j,i} =  w_{j,i} - \\alpha \\delta_{j} x_{i}\n",
    "\\end{equation}\n",
    "\n",
    "\\vspace{10mm}\n",
    "To show that \n",
    "\\vspace{5mm}\n",
    "\\begin{equation}\n",
    "    \\delta_{j} = f'(z_{j}) \\displaystyle\\sum_{k} w_{k,j} \\delta_{k} \n",
    "\\end{equation}\n",
    "\n",
    "We look at the terms on the rigth side \n",
    "\\vspace{5mm}\n",
    "where we have that\n",
    "\\begin{equation}\n",
    "    a_{j} = f(z_{j}) = >  \\frac{\\partial a_{j}}{\\partial z_{j}} = f'(z_{j}) \n",
    "\\end{equation}\n",
    "\\begin{equation}\n",
    "    \\delta_{k} = \\frac{\\partial C}{\\partial z_{k}}\n",
    "\\end{equation}\n",
    "\\begin{equation}\n",
    "    z_{k} = w_{k,j}a_{j} => \\frac{\\partial z_{k}}{\\partial a_{j}} = w_{k,j}\n",
    "\\end{equation}\n",
    "\n",
    "\\vspace{5mm}\n",
    "Setting in (11), (12) and (13) in (10), we get that\n",
    "\\begin{equation}\n",
    "    \\delta_{j} = f'(z_{j}) \\displaystyle\\sum_{k} w_{k,j} \\delta_{k} = \\frac{\\partial a_{j}}{\\partial z_{j}}\\displaystyle\\sum_{k}  \\frac{\\partial z_{k}}{\\partial a_{j}}\\frac{\\partial C}{\\partial z_{k}}\n",
    "\\end{equation}\n",
    "\n",
    "\\vspace{5mm}\n",
    "By comparing (14) and (3) we se that we have the same function, by setting the term \n",
    "\\begin{equation}\n",
    "    \\frac{\\partial a_{j}}{\\partial z_{j}}\n",
    "\\end{equation}\n",
    "outside the sum, that we can do because it does not depend on k. Then we have shown that (10) is accurate.\n"
   ]
  },
  {
   "cell_type": "markdown",
   "metadata": {},
   "source": [
    "## task 1b)\n",
    "\n",
    "Fill in task 1a image of hand-written notes which are easy to read, or latex equations here"
   ]
  },
  {
   "cell_type": "markdown",
   "metadata": {},
   "source": [
    "# Task 2"
   ]
  },
  {
   "cell_type": "markdown",
   "metadata": {},
   "source": [
    "## Task 2c)\n",
    "![](task2c_2_train_loss.png)"
   ]
  },
  {
   "cell_type": "markdown",
   "metadata": {},
   "source": [
    "## Task 2d)\n",
    "FILL IN ANSWER"
   ]
  },
  {
   "cell_type": "markdown",
   "metadata": {},
   "source": [
    "# Task 3"
   ]
  },
  {
   "cell_type": "markdown",
   "metadata": {},
   "source": [
    "FILL IN ANSWER.\n",
    "Maybe include a loss / accuracy plot here?"
   ]
  },
  {
   "cell_type": "markdown",
   "metadata": {},
   "source": [
    "# Task 4"
   ]
  },
  {
   "cell_type": "markdown",
   "metadata": {},
   "source": [
    "## Task 4a)\n",
    "![](task4a_train_loss.png)\n",
    "\n",
    "FILL IN ANSWER. "
   ]
  },
  {
   "cell_type": "markdown",
   "metadata": {},
   "source": [
    "## Task 4b)\n",
    "![](task4b_train_loss.png)\n",
    "FILL IN ANSWER\n"
   ]
  },
  {
   "cell_type": "markdown",
   "metadata": {},
   "source": [
    "## Task 4d)\n",
    "![](task4d_train_loss.png)\n",
    "FILL IN ANSWER"
   ]
  },
  {
   "cell_type": "markdown",
   "metadata": {},
   "source": [
    "## Task 4e)\n",
    "FILL IN ANSWER"
   ]
  }
 ],
 "metadata": {
  "kernelspec": {
   "display_name": "Python3 tdt4265",
   "language": "python",
   "name": "tdt4265"
  },
  "language_info": {
   "codemirror_mode": {
    "name": "ipython",
    "version": 3
   },
   "file_extension": ".py",
   "mimetype": "text/x-python",
   "name": "python",
   "nbconvert_exporter": "python",
   "pygments_lexer": "ipython3",
   "version": "3.6.10"
  }
 },
 "nbformat": 4,
 "nbformat_minor": 4
}

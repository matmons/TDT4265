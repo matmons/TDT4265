{
 "cells": [
  {
   "cell_type": "markdown",
   "metadata": {},
   "source": [
    "# Assignment 1 Report"
   ]
  },
  {
   "cell_type": "markdown",
   "metadata": {},
   "source": [
    "This is an outline for your report to ease the amount of work required to create your report. Jupyter notebook supports markdown, and I recommend you to check out this [cheat sheet](https://github.com/adam-p/markdown-here/wiki/Markdown-Cheatsheet). If you are not familiar with markdown.\n",
    "\n",
    "Before delivery, **remember to convert this file to PDF**. You can do it in two ways:\n",
    "1. Print the webpage (ctrl+P or cmd+P)\n",
    "2. Export with latex. This is somewhat more difficult, but you'll get somehwat of a \"prettier\" PDF. Go to File -> Download as -> PDF via LaTeX. You might have to install nbconvert and pandoc through conda; `conda install nbconvert pandoc`."
   ]
  },
  {
   "cell_type": "markdown",
   "metadata": {},
   "source": [
    "# Task 1\n",
    "\n",
    "Convolutional layers in CNN\n",
    "\n",
    "Depth: Number of filters we would like to use, each looking at something different in the input. \n",
    "Stride: how far we move for each convolutional filter. It is basically the number of pixel before we \"reactivate\" the filter.\n",
    "\tLarger stride will give a smaller output (as we skip more of the image).\n",
    "Zero-padding: A technique for padding the input volume with zeros around the border.\n",
    "\tIt allows us to control the sptial size of the output volumes. In general, setting zero padding to be\n",
    "\tP = (F - 1)/2 when the stride is S = 1 ensures that the input volume and output volume will have the same\n",
    "\tsize spatially. \n",
    "\n",
    "(W - F + 2P)/S + 1 = (input_size - receptive_size + 2 * padding) / stride + 1\n",
    "\n",
    "Pooling Layers in CNN\n",
    "\n",
    "Commonly inserted between successive Conv-layers in a Conv-net architecture. Its function is to progressively\n",
    "reduce the spatial size of the representation to reduce the amount fo parameters and computation in the network,\n",
    "and hence to also control overfitting.\n",
    "\n",
    "Operates independently on each depth slice. Uses max() operation. The most common form of pooling uses filter size\n",
    "2x2 applide with stride = 2. \n",
    "\n",
    "Generally, a pooling layer:\n",
    "\n",
    "- Accepts a volume of size W1 x H1 x D1\n",
    "- Requires two hyperparameter:\n",
    "\t- their spatial extent F,\n",
    "\t- the stride S,\n",
    "- Produces a volume of size W2 x H2 x D2 where:\n",
    "\t- W2 = (W1 - F)/S + 1\n",
    "\t- H2 = (H1 - F)/S + 1\n",
    "\t- D2 = D1\n",
    "\n",
    "Introduces zero parameter since it computes a fixed function of the input\n",
    "For pooling layers, it is not common to pad the input using zero-padding.\n",
    "\n",
    "Max pooling is most common, but average pooling and L2-norm pooling exist. Max pooling has shown best results in \n",
    "practice. \n",
    "\n",
    "Backprop in pooling: routing the gradient to the input that had the highest value in the forward pass\n",
    "\n",
    "Getting rid of pooling: some argue that pooling layers are unecessary and one can get away with using only conv-layers, \n",
    "replacing the occasional pooling with a conv-layer with larger stride (thus reducing the spatial size).\n"
   ]
  },
  {
   "cell_type": "markdown",
   "metadata": {},
   "source": [
    "## Task 1a)\n",
    "First of, we handle boundary condition by implementing zero-pooling. Given that the stride is 1 and as the convolved image should perserve the spatial size we determine the size of zero-padding by\n",
    "\n",
    "$P = (F - 1) / 2 = (3 - 1) / 2 = 1$"
   ]
  },
  {
   "cell_type": "code",
   "execution_count": 12,
   "metadata": {},
   "outputs": [
    {
     "data": {
      "text/plain": [
       "array([[  2.,  -1.,  11.,  -2., -13.],\n",
       "       [ 10.,  -4.,   8.,   2., -18.],\n",
       "       [ 14.,  -1.,  -5.,   6.,  -9.]])"
      ]
     },
     "execution_count": 12,
     "metadata": {},
     "output_type": "execute_result"
    }
   ],
   "source": [
    "import numpy as np\n",
    "input_data = np.array(\n",
    "    [\n",
    "        [0, 0, 0, 0, 0, 0, 0],\n",
    "        [0, 1, 0, 2, 3, 1, 0],\n",
    "        [0, 3, 2, 0, 7, 0, 0],\n",
    "        [0, 0, 6, 1, 1, 4, 0],\n",
    "        [0, 0, 0, 0, 0, 0, 0]\n",
    "    ])\n",
    "kernel = np.array([\n",
    "    [-1, 0, 1],\n",
    "    [-2, 0, 2],\n",
    "    [-1, 0, 1]\n",
    "])\n",
    "\n",
    "convolved_output = np.zeros((3,5))\n",
    "\n",
    "for i in range(1, input_data.shape[0]-1):\n",
    "    for j in range(1, input_data.shape[1]-1):\n",
    "        convolved_output[i-1, j-1] = np.sum(np.multiply(kernel, input_data[i-1:i+2, j-1:j+2]))\n",
    "        \n",
    "convolved_output"
   ]
  },
  {
   "cell_type": "markdown",
   "metadata": {},
   "source": [
    "Spatial convolution gives us the following output:\n",
    "\n",
    "$\n",
    "\\begin{bmatrix}\n",
    "    2 & -1 & 11 & -2 & -13 \\\\\n",
    "    10 & -4 & 8 & 2 & -18 \\\\\n",
    "    14 & -1 & -5 & 6 & -9 \\\\\n",
    "\\end{bmatrix}\n",
    "$"
   ]
  },
  {
   "cell_type": "markdown",
   "metadata": {},
   "source": [
    "## Task 1b)\n",
    "(iii) Max Pooling.\n",
    "\n",
    "Max pooling increases invariance to translation as it disregards the spatial information, but keeps the max value in the area of inspection.\n",
    "\n",
    "Why not (i) - Convolutional layer? From a mere intuitive standpoint, comparing how the output of a convolutional layer and a max pooling layer is calculated, it seems self explanatory that the max pooling is less prone to translational variations. If we look at the filter used in task 1a), a translational shift will also shift the outputs. Max pooling discards spatial information - and \"only cares about\" the max value in the area, meaning that the layer will give the same output even if the input is shifted.\n",
    "\n",
    "Why not (ii) activation function? Does not make sense (?).\n",
    "\n",
    "## Task 1c)\n",
    "Similar to task 1a, we wish to perserve the spatial size through convolution.  Using the same formula, with:\n",
    "$S = 1$\n",
    "and\n",
    "$F = 5$\n",
    "\n",
    "$P = (F - 1) / 2 = (5 - 1) / 2 = 2$\n",
    "\n",
    "## Task 1d)\n",
    "Given equal width and height, we only need to calculate one of the dimensions. Calculating width:\n",
    "\n",
    "$W_{2} = \\frac{W_{1} - F + 2P}{S} + 1$\n",
    "\n",
    "$F = -(W_{2}-1)S + W_{1} + 2P$\n",
    "\n",
    "which gives, with our values:\n",
    "\n",
    "$F = -(504-1)*1 + 512 + 2*0 = 9 $\n",
    "\n",
    "(Height) x (Width) is 9x9. Depth = K = 12.\n",
    "\n",
    "\n",
    "## Task 1e)\n",
    "Pooling layers accepts a volume of size W, H D, and takes hyperparameters F and S as input.\n",
    "\n",
    "The layer produces a volume of size: \n",
    "$W_{2} = \\frac{W_{1} - F}{S} + 1$\n",
    "\n",
    "As we are working with equal width and height, we only have to calculate one of them:\n",
    "\n",
    "$ W_{2} = \\frac{W_{1} - F}{S} + 1 = \\frac{504 - 2}{2} + 1 = 252$\n",
    "\n",
    "The layer produces an output of size: (Height) x (Width) = 252x252. Depth is perserved.\n",
    "\n",
    "## Task 1f)\n",
    "Using the same equation as in task 1d. We now have input, assuming output from the pooling layer in task 1e, of size W,H,D = 252, 252, 12.\n",
    "Again, equal height and width:\n",
    "\n",
    "$W_{2} = \\frac{W_{1} - F + 2P}{S} + 1 = \\frac{252 - 3}{1} + 1 = 250 $ \n",
    "\n",
    "The size of the feature maps: (Height) x (Width) = 250x250\n",
    "\n",
    "## task 1g)\n",
    "390336\n",
    "Legger inn tabellen fra excel når dobbeltsjekket at riktig\n"
   ]
  },
  {
   "cell_type": "markdown",
   "metadata": {},
   "source": [
    "# Task 2\n",
    "\n",
    "### Task 2a)\n",
    "\n",
    "### Task 2b)"
   ]
  },
  {
   "cell_type": "markdown",
   "metadata": {},
   "source": [
    "# Task 3"
   ]
  },
  {
   "cell_type": "markdown",
   "metadata": {},
   "source": [
    "### Task 3a)\n",
    "### Task 3b)\n",
    "### Task 3c)\n",
    "### Task 3d)\n",
    "### Task 3e)\n",
    "### Task 3f)"
   ]
  },
  {
   "cell_type": "markdown",
   "metadata": {},
   "source": [
    "# Task 4"
   ]
  },
  {
   "cell_type": "markdown",
   "metadata": {},
   "source": [
    "## Task 4a)\n",
    "\n",
    "FILL IN ANSWER. "
   ]
  },
  {
   "cell_type": "markdown",
   "metadata": {},
   "source": [
    "## Task 4b)\n",
    "FILL IN ANSWER\n"
   ]
  },
  {
   "cell_type": "markdown",
   "metadata": {},
   "source": [
    "## Task 4c)\n",
    "FILL IN ANSWER"
   ]
  }
 ],
 "metadata": {
  "kernelspec": {
   "display_name": "Python 3",
   "language": "python",
   "name": "python3"
  },
  "language_info": {
   "codemirror_mode": {
    "name": "ipython",
    "version": 3
   },
   "file_extension": ".py",
   "mimetype": "text/x-python",
   "name": "python",
   "nbconvert_exporter": "python",
   "pygments_lexer": "ipython3",
   "version": "3.7.9"
  }
 },
 "nbformat": 4,
 "nbformat_minor": 4
}
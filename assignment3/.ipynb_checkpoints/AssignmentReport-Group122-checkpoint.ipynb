{
 "cells": [
  {
   "cell_type": "markdown",
   "metadata": {},
   "source": [
    "# Assignment 1 Report"
   ]
  },
  {
   "cell_type": "markdown",
   "metadata": {},
   "source": [
    "This is an outline for your report to ease the amount of work required to create your report. Jupyter notebook supports markdown, and I recommend you to check out this [cheat sheet](https://github.com/adam-p/markdown-here/wiki/Markdown-Cheatsheet). If you are not familiar with markdown.\n",
    "\n",
    "Before delivery, **remember to convert this file to PDF**. You can do it in two ways:\n",
    "1. Print the webpage (ctrl+P or cmd+P)\n",
    "2. Export with latex. This is somewhat more difficult, but you'll get somehwat of a \"prettier\" PDF. Go to File -> Download as -> PDF via LaTeX. You might have to install nbconvert and pandoc through conda; `conda install nbconvert pandoc`."
   ]
  },
  {
   "cell_type": "markdown",
   "metadata": {},
   "source": [
    "# Task 1\n",
    "\n",
    "Convolutional layers in CNN\n",
    "\n",
    "Depth: Number of filters we would like to use, each looking at something different in the input. \n",
    "Stride: how far we move for each convolutional filter. It is basically the number of pixel before we \"reactivate\" the filter.\n",
    "\tLarger stride will give a smaller output (as we skip more of the image).\n",
    "Zero-padding: A technique for padding the input volume with zeros around the border.\n",
    "\tIt allows us to control the sptial size of the output volumes. In general, setting zero padding to be\n",
    "\tP = (F - 1)/2 when the stride is S = 1 ensures that the input volume and output volume will have the same\n",
    "\tsize spatially. \n",
    "\n",
    "(W - F + 2P)/S + 1 = (input_size - receptive_size + 2 * padding) / stride + 1\n",
    "\n",
    "Pooling Layers in CNN\n",
    "\n",
    "Commonly inserted between successive Conv-layers in a Conv-net architecture. Its function is to progressively\n",
    "reduce the spatial size of the representation to reduce the amount fo parameters and computation in the network,\n",
    "and hence to also control overfitting.\n",
    "\n",
    "Operates independently on each depth slice. Uses max() operation. The most common form of pooling uses filter size\n",
    "2x2 applide with stride = 2. \n",
    "\n",
    "Generally, a pooling layer:\n",
    "\n",
    "- Accepts a volume of size W1 x H1 x D1\n",
    "- Requires two hyperparameter:\n",
    "\t- their spatial extent F,\n",
    "\t- the stride S,\n",
    "- Produces a volume of size W2 x H2 x D2 where:\n",
    "\t- W2 = (W1 - F)/S + 1\n",
    "\t- H2 = (H1 - F)/S + 1\n",
    "\t- D2 = D1\n",
    "\n",
    "Introduces zero parameter since it computes a fixed function of the input\n",
    "For pooling layers, it is not common to pad the input using zero-padding.\n",
    "\n",
    "Max pooling is most common, but average pooling and L2-norm pooling exist. Max pooling has shown best results in \n",
    "practice. \n",
    "\n",
    "Backprop in pooling: routing the gradient to the input that had the highest value in the forward pass\n",
    "\n",
    "Getting rid of pooling: some argue that pooling layers are unecessary and one can get away with using only conv-layers, \n",
    "replacing the occasional pooling with a conv-layer with larger stride (thus reducing the spatial size).\n"
   ]
  },
  {
   "cell_type": "markdown",
   "metadata": {},
   "source": [
    "## Task 1a)\n",
    "First of, as the convolved image should perserve the spatial size we determine the size of zero-padding by:\n",
    "\n"
   ]
  },
  {
   "cell_type": "markdown",
   "metadata": {},
   "source": [
    "## task 1b)\n",
    "\n",
    "Fill in image of hand-written notes which are easy to read, or latex equations here\n",
    "\n",
    "## task 1c)\n",
    "\n",
    "Fill in task 1a image of hand-written notes which are easy to read, or latex equations here\n",
    "\n",
    "## task 1c)\n",
    "\n",
    "Fill in task 1a image of hand-written notes which are easy to read, or latex equations here\n",
    "## task 1d)\n",
    "\n",
    "Fill in task 1a image of hand-written notes which are easy to read, or latex equations here\n",
    "## task 1e)\n",
    "\n",
    "Fill in task 1a image of hand-written notes which are easy to read, or latex equations here\n",
    "## task 1f)\n",
    "\n",
    "Fill in task 1a image of hand-written notes which are easy to read, or latex equations here\n",
    "## task 1g)\n",
    "\n",
    "Fill in task 1a image of hand-written notes which are easy to read, or latex equations here"
   ]
  },
  {
   "cell_type": "markdown",
   "metadata": {},
   "source": [
    "# Task 2\n",
    "\n",
    "### Task 2a)\n",
    "\n",
    "### Task 2b)"
   ]
  },
  {
   "cell_type": "markdown",
   "metadata": {},
   "source": [
    "# Task 3"
   ]
  },
  {
   "cell_type": "markdown",
   "metadata": {},
   "source": [
    "### Task 3a)\n",
    "### Task 3b)\n",
    "### Task 3c)\n",
    "### Task 3d)\n",
    "### Task 3e)\n",
    "### Task 3f)"
   ]
  },
  {
   "cell_type": "markdown",
   "metadata": {},
   "source": [
    "# Task 4"
   ]
  },
  {
   "cell_type": "markdown",
   "metadata": {},
   "source": [
    "## Task 4a)\n",
    "\n",
    "FILL IN ANSWER. "
   ]
  },
  {
   "cell_type": "markdown",
   "metadata": {},
   "source": [
    "## Task 4b)\n",
    "FILL IN ANSWER\n"
   ]
  },
  {
   "cell_type": "markdown",
   "metadata": {},
   "source": [
    "## Task 4c)\n",
    "FILL IN ANSWER"
   ]
  }
 ],
 "metadata": {
  "kernelspec": {
   "display_name": "Python 3",
   "language": "python",
   "name": "python3"
  },
  "language_info": {
   "codemirror_mode": {
    "name": "ipython",
    "version": 3
   },
   "file_extension": ".py",
   "mimetype": "text/x-python",
   "name": "python",
   "nbconvert_exporter": "python",
   "pygments_lexer": "ipython3",
   "version": "3.7.9"
  }
 },
 "nbformat": 4,
 "nbformat_minor": 4
}
